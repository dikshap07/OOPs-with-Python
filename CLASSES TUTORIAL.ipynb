{
 "cells": [
  {
   "cell_type": "markdown",
   "metadata": {},
   "source": [
    "##### Q.WHY USE CLASS?\n",
    "\n",
    "\n",
    "##### A. ALLOWS US TO LOGICALLY GROUP A BUNCH OF FUCNTIONS AND ALLOWS EASY REUSE."
   ]
  },
  {
   "cell_type": "markdown",
   "metadata": {},
   "source": [
    "#### OOP with Python\n",
    "Basic details:\n",
    "\n",
    "- OOPs allows programmers to create their own objects that have methods and attributes. These methods act as functions that use information about the object or the object itself to produce results or to chnange the current object.\n",
    "\n",
    "\n",
    "\n",
    "In python, sometimes these objects are also called classes.\n",
    "\n",
    "Note: In class name we mostly use camel casing (camel casing means first letter of each new word is capitalized), that is why it is suggested to use small alphabets for variable names.\n",
    "\n",
    "-we use self.parameter to connect the parameter to the object(class).\n",
    "\n",
    "\n",
    "\n",
    "\n",
    "\n",
    "**Classes and attributes**\n",
    "\n",
    "Class is basically a blueprint and from class we can create an instance. An instance is a particular object created from a particular class. \n",
    "\n",
    "functions in a class are called methods. the methods use the object itself into account by using the self keyword.\n",
    "\n",
    "self connects   the method to the instance of the  class and allows us to refer to itself. It represents the instance of the object itself.\n",
    "\n",
    "attribute is a characteristic of the object\n",
    "\n",
    "__init__ can be called the constructor for a class and called automatically when u create an instance of the class.\n",
    "\n",
    "Classobjectattribute te  : remain same for any instance in the Class, since it will be same for any instance of a class we don't use the self keyword because the self keyword connects to the particular instance of the class, so we just directly use the name of the class object attribute. eg. species = 'mammal'\n",
    "\n",
    "**Inheritance**\n",
    "\n",
    "So, you can inherit a class by follwing this syntax:\n",
    "\n",
    ": class Dog(Animal)\n",
    "\n",
    "- you can use all the functions/methods present in the class we inherited from\n",
    "\n",
    "- you can overwrite the methods of previous class if we need to.\n",
    "\n",
    "**Polymorphism**\n",
    "\n",
    "It refers to the way in which different object classes can share the same methods names and then these methods can be called in from the same place even though a variety of objects can be passed in.\n",
    "\n",
    "**Abstract class:**\n",
    "\n",
    "This doesn't need to have a instance for this class just used as a base class.\n",
    "\n",
    "**Special Methods:/magic /dunder methods:**\n",
    "\n",
    "__str__ : returns the string representation of your object \n",
    "\n",
    "--> basically allows us to use the inbuilt methods directly on the class instances.\n",
    "\n",
    "\n",
    "\n",
    "** to delete a variable from your computers memory use: del variable_name\n",
    "\n",
    " \n",
    "\n",
    "\n",
    "\n",
    "\n"
   ]
  },
  {
   "cell_type": "code",
   "execution_count": null,
   "metadata": {},
   "outputs": [],
   "source": [
    "#by convention we use camel casing in the class name"
   ]
  },
  {
   "cell_type": "code",
   "execution_count": 1,
   "metadata": {},
   "outputs": [],
   "source": [
    "class Dog():\n",
    "    \n",
    "    def __init__(self,mybreed):  #mybreed is the argument and we assign the argument to self.attribute \n",
    "        \n",
    "        self.breed = mybreed  \n",
    "        \n",
    "    def bark(self):\n",
    "        print('WOOF!')"
   ]
  },
  {
   "cell_type": "code",
   "execution_count": 2,
   "metadata": {},
   "outputs": [],
   "source": [
    "my_dog = Dog('Huskie')  #so basically the value of the argument will be stored in the self.attribute \n",
    "                          #that is why when we want th evalue of the breed we call my_dog.breed and not my_dog.mybreed\n"
   ]
  },
  {
   "cell_type": "code",
   "execution_count": 3,
   "metadata": {},
   "outputs": [
    {
     "ename": "AttributeError",
     "evalue": "'Dog' object has no attribute 'mybreed'",
     "output_type": "error",
     "traceback": [
      "\u001b[1;31m---------------------------------------------------------------------------\u001b[0m",
      "\u001b[1;31mAttributeError\u001b[0m                            Traceback (most recent call last)",
      "\u001b[1;32m<ipython-input-3-4876553825d7>\u001b[0m in \u001b[0;36m<module>\u001b[1;34m\u001b[0m\n\u001b[1;32m----> 1\u001b[1;33m \u001b[0mmy_dog\u001b[0m\u001b[1;33m.\u001b[0m\u001b[0mmybreed\u001b[0m   \u001b[1;31m#see we get error because mybreed is not the attribute, the attribute is breed.\u001b[0m\u001b[1;33m\u001b[0m\u001b[1;33m\u001b[0m\u001b[0m\n\u001b[0m",
      "\u001b[1;31mAttributeError\u001b[0m: 'Dog' object has no attribute 'mybreed'"
     ]
    }
   ],
   "source": [
    "my_dog.mybreed   #see we get error because mybreed is not the attribute, the attribute is breed."
   ]
  },
  {
   "cell_type": "code",
   "execution_count": 4,
   "metadata": {},
   "outputs": [
    {
     "data": {
      "text/plain": [
       "'Huskie'"
      ]
     },
     "execution_count": 4,
     "metadata": {},
     "output_type": "execute_result"
    }
   ],
   "source": [
    "my_dog.breed"
   ]
  },
  {
   "cell_type": "code",
   "execution_count": 5,
   "metadata": {},
   "outputs": [
    {
     "data": {
      "text/plain": [
       "<bound method Dog.bark of <__main__.Dog object at 0x000001BF0A8608C8>>"
      ]
     },
     "execution_count": 5,
     "metadata": {},
     "output_type": "execute_result"
    }
   ],
   "source": [
    "#NOW WE WANT TO EXECUTE THE METHOD BARK\n",
    "#because we want to execute it we need ()\n",
    "#if we dont add (), we get the following :<bound method Dog.bark of <__main__.Dog object at 0x000001B4AD79C8C8>>\n",
    "# this means that we have a method bounded to the class Dog at - 0x000001B4AD79C8C8 this location\n",
    "\n",
    "my_dog.bark"
   ]
  },
  {
   "cell_type": "code",
   "execution_count": 6,
   "metadata": {},
   "outputs": [
    {
     "name": "stdout",
     "output_type": "stream",
     "text": [
      "WOOF!\n"
     ]
    }
   ],
   "source": [
    "my_dog.bark()"
   ]
  },
  {
   "cell_type": "code",
   "execution_count": 7,
   "metadata": {},
   "outputs": [],
   "source": [
    "class Dog():\n",
    "    \n",
    "    def __init__(self,mybreed):  #mybreed is the argument and we assign the argument to self.attribute \n",
    "        \n",
    "        self.breed = mybreed  \n",
    "        \n",
    "        #if we need other attributes in our method\n",
    "        \n",
    "    def bark(self,number):   \n",
    "        \n",
    "        print('WOOF! my breed is {} and the  number is {}'.format(self.breed,number))\n",
    "        #you notice here that we use self.name - we do that becaus ewe are refering to the name particular to that instance\n",
    "        #whereas we dont use self.number , that is because \"number\" is given in the method itself so we dont need self to refer it"
   ]
  },
  {
   "cell_type": "code",
   "execution_count": 8,
   "metadata": {},
   "outputs": [],
   "source": [
    "my_dog = Dog('lab')"
   ]
  },
  {
   "cell_type": "code",
   "execution_count": 9,
   "metadata": {},
   "outputs": [
    {
     "name": "stdout",
     "output_type": "stream",
     "text": [
      "WOOF! my breed is lab and the  number is 5\n"
     ]
    }
   ],
   "source": [
    "my_dog.bark(5)"
   ]
  },
  {
   "cell_type": "code",
   "execution_count": null,
   "metadata": {},
   "outputs": [],
   "source": []
  },
  {
   "cell_type": "code",
   "execution_count": 10,
   "metadata": {},
   "outputs": [],
   "source": [
    "class Employee:\n",
    "    pass         #TO CREATE AN EMPTY CLASS WE USE THE \"pass\" STATEMENT"
   ]
  },
  {
   "cell_type": "code",
   "execution_count": 11,
   "metadata": {},
   "outputs": [
    {
     "name": "stdout",
     "output_type": "stream",
     "text": [
      "<__main__.Employee object at 0x000001BF0A860E48> <__main__.Employee object at 0x000001BF0A860E08>\n"
     ]
    }
   ],
   "source": [
    "emp1 = Employee()\n",
    "emp2 = Employee()\n",
    "print(emp1,emp2)   # __main__ shows that our instance emp1,emp2 are connected to the main class Employeee"
   ]
  },
  {
   "cell_type": "code",
   "execution_count": 12,
   "metadata": {},
   "outputs": [],
   "source": [
    "#instance variables = contain data that is unique to each instance, eg:\n",
    "\n",
    "\n",
    "emp1.firstname = 'Stacey'\n",
    "emp1.lastname = 'Mccord'\n",
    "emp1.email = 'stacey.mccord@gmail.com'\n",
    "emp1.salary = 9500\n",
    "\n",
    "emp2.firstname = 'Dmitri'\n",
    "emp2.lastname = 'Petrov'\n",
    "emp2.email = 'dmitri.petrov@gmail.com'\n",
    "emp2.salary = 9200\n"
   ]
  },
  {
   "cell_type": "code",
   "execution_count": 13,
   "metadata": {},
   "outputs": [
    {
     "name": "stdout",
     "output_type": "stream",
     "text": [
      "Stacey\n"
     ]
    }
   ],
   "source": [
    "print(emp1.firstname)"
   ]
  },
  {
   "cell_type": "code",
   "execution_count": 14,
   "metadata": {},
   "outputs": [
    {
     "name": "stdout",
     "output_type": "stream",
     "text": [
      "Dmitri\n"
     ]
    }
   ],
   "source": [
    "print(emp2.firstname)"
   ]
  },
  {
   "cell_type": "code",
   "execution_count": 15,
   "metadata": {},
   "outputs": [
    {
     "name": "stdout",
     "output_type": "stream",
     "text": [
      "Stacey.Mccord@gmail.com\n",
      "Dmitri.Petriv@gmail.com\n"
     ]
    }
   ],
   "source": [
    "#using __init__ method so that we dont have to specify these values again and again using the above syntax for each instance as it can be prone to error \n",
    "\n",
    "#the method created in class, receives an instance automatically and its conventionally named self, we can name it anything\n",
    "#we want\n",
    "\n",
    "\n",
    "class Employee():\n",
    "    \n",
    "    def __init__(self,firstname,lastname,pay):  #we wanted email too but we can create that using the first name and last name\n",
    "        \n",
    "        #to set all of the instance variables:\n",
    "        \n",
    "        self.firstname = firstname   #these can be written as self.first_name = firstname dont need to match\n",
    "        self.lastname = lastname\n",
    "        self.email = firstname + \".\" + lastname + \"@gmail.com\"\n",
    "        self.pay = pay    \n",
    "        \n",
    "        \n",
    "     #CREATING A METHOD TO PRINT THE FULL NAME OF OUR EMPLOYEE:\n",
    "    \n",
    "    def fullname(self):  #because we have the variables we want to use already we dont need to mention anything other than the instance\n",
    "        return '{} {}'.format(self.firstname,self.lastname) \n",
    "    \n",
    "        \n",
    "  \n",
    "        \n",
    "        \n",
    "        \n",
    "      \n",
    "#now to give attributes to our custimized instances like emp1, etc we can proceed as follows:\n",
    "\n",
    "emp1 = Employee('Stacey', 'Mccord', 60000)  #will automatically get the instance therefore we dont need to add \"self\"\n",
    "\n",
    "# because we only have init method in the class now, the init method will run when we call the class and instead of self emp1 instance will be sent,\n",
    "#Therefore, the backend process will be like: emp1.firstname = 'Stacey'    , emp1.lastname = 'Mccord' and so on...\n",
    "\n",
    "emp2 = Employee('Dmitri', 'Petriv', 40000)  \n",
    "\n",
    "\n",
    "#now we can get value of the instance variables like this:\n",
    "\n",
    "\n",
    "print(emp1.email)\n",
    "print(emp2.email)\n",
    "\n",
    "\n",
    "\n",
    "#Here, firstname,lastname,email, pay are all attribute of our class"
   ]
  },
  {
   "cell_type": "code",
   "execution_count": 11,
   "metadata": {},
   "outputs": [
    {
     "name": "stdout",
     "output_type": "stream",
     "text": [
      "Stacey Mccord\n",
      "Applying Method using class: Stacey Mccord\n",
      "Applying Method directly:  Stacey Mccord\n"
     ]
    }
   ],
   "source": [
    "class Employee():\n",
    "    \n",
    "    def __init__(self,firstname,lastname,pay):  #we wanted email too but we can create that using the first name and last name\n",
    "        \n",
    "        #to set all of the instance variables:\n",
    "        \n",
    "        self.firstname = firstname   #these can be written as self.first_name = firstname dont need to match\n",
    "        self.lastname = lastname\n",
    "        self.email = firstname + \".\" + lastname + \"@gmail.com\"\n",
    "        self.pay = pay    \n",
    "        \n",
    "        \n",
    "     #CREATING A METHOD TO PRINT THE FULL NAME OF OUR EMPLOYEE:\n",
    "    #IF WE FORGET TO ADD THE INSTANCE 'self' HERE WHILE EXECUTING THE print(emp1.fullname()) \n",
    "    #STATEMENT WE WILL GET ERROR LIKE : fullname() TAKES 0 ARGUMENTS BUT ONE WAS GIVEN, ALTHOUGH IT DOESNT LOOK LIKE WE GAVE AN ARGUMENT TO \n",
    "    #IT BECAUSE THERE IS NOTHING IN THE PARENTHESIS, BUT WE GET THIS ERROR BECAUSE IN THE METHOD WE ARE GIVING 'emp1' AS THE ARGUMENT\n",
    "    #THEREFORE, DO NOT FORGET TO ADD THE INSTANCE \"self\" \n",
    "    \n",
    "    \n",
    "    def fullname(self):  #because we have the variables we want to use already we dont need to mention anything other than the instance\n",
    "        return '{} {}'.format(self.firstname,self.lastname) \n",
    "\n",
    "emp1 = Employee('Stacey', 'Mccord', 60000) \n",
    "emp2 = Employee('Dmitri', 'Petriv', 40000)     \n",
    "    \n",
    "#NOW TO PRINT FULL NAME FOR EMP1:\n",
    "\n",
    "print(emp1.fullname())  #we can call the fullname method (thtsy we are using parenthesis unlike instance variable which were called directly without the use of parenthesis)\n",
    "\n",
    "\n",
    "#WE CAN RUN THESE METHODS USING THE CLASS NAME ITSELF, BUT THERE WE WILL HAVE TO SPECIFY THE INSTANCE NAME \n",
    "# WHERE THE emp1.fullname() TAKES self AUTOMATICALLY AS THE INSTANCE\n",
    "#THE BELOW CODE WONT DO SO THAT IS WHY WE SPECIFY THE INSTANCE\n",
    "\n",
    "print(\"Applying Method using class:\", Employee.fullname(emp1))   #BOTH GIVE THE SAME OUTPUT\n",
    "print(\"Applying Method directly: \", emp1.fullname())\n",
    "\n",
    "\n",
    "\n",
    "\n",
    "\n",
    "\n"
   ]
  },
  {
   "cell_type": "code",
   "execution_count": 14,
   "metadata": {},
   "outputs": [
    {
     "name": "stdout",
     "output_type": "stream",
     "text": [
      "60000\n",
      "62400\n",
      "1.04\n",
      "1.04\n",
      "1.04\n"
     ]
    }
   ],
   "source": [
    "#CLASS VARIABLES: VARIABLES WHICH ARE SHARED AMONG ALL INSTANCES OF THE CLASS\n",
    "# We can access these class variable within the class either by the class for eg. CLASS_NAME.CLASS_VARIABLE or by any \n",
    "#instance of the class for eg. SELF.CLASS_VARIABLE or INSTANCE_NAME.CLASS_VARIABLE\n",
    "\n",
    "\n",
    "#Here, we will be using a class variable in a method to caluculate raise for for employees \n",
    "\n",
    "class Employee():\n",
    "    \n",
    "    raise_amount = 1.04 #declaring class variable \n",
    "    \n",
    "    def __init__(self,firstname,lastname,pay):  #we wanted email too but we can create that using the first name and last name\n",
    "        \n",
    "        #to set all of the instance variables:\n",
    "        \n",
    "        self.firstname = firstname   #these can be written as self.first_name = firstname dont need to match\n",
    "        self.lastname = lastname\n",
    "        self.email = firstname + \".\" + lastname + \"@gmail.com\"\n",
    "        self.pay = pay    \n",
    "        \n",
    "         \n",
    "    def fullname(self):  #because we have the variables we want to use already we dont need to mention anything other than the instance\n",
    "        return '{} {}'.format(self.firstname,self.lastname) \n",
    "\n",
    "    \n",
    "    def apply_raise(self):\n",
    "        self.pay = int(self.pay * Employee.raise_amount)\n",
    "        #or we can write : int(self.pay = self.pay*self.raise_amount)\n",
    "        \n",
    "        \n",
    "        #IF WE DONT CALL THE CLASS VARIABLE USING CLASSNAME OR INSTANCE WE WILL GET AN ERROR\n",
    "        # If we use self.raise_amount here, we can change the value of raise_amount of any particular instance\n",
    "        # and then use it in this apply_raise methof to get different amount then others but if we use \n",
    "        # the Employee.raise_amount changing the raise_amount for any particular instance will not change the \n",
    "        # pay of that instance/emplyeee after running the apply_raise function because it will still use the \n",
    "        # original value set at the beginnin of class here(raise_amount = 1.04)\n",
    "        \n",
    "emp1 = Employee('Stacey', 'Mccord', 60000) \n",
    "emp2 = Employee('Dmitri', 'Petriv', 40000)     \n",
    "\n",
    "#NOW WE USE METHOD apply_raise:\n",
    "\n",
    "\n",
    "\n",
    "print(emp1.pay)\n",
    "emp1.apply_raise()\n",
    "print(emp1.pay)\n",
    "\n",
    "\n",
    "#emp1.raise_amount = 1.05  #(comment this code and notice the difference in output)\n",
    "#Employee.raise_amount = 1.06 #modifies the original value of raise_amount\n",
    "\n",
    "\n",
    "print(Employee.raise_amount)\n",
    "print(emp1.raise_amount) #we see that the raise_amount has only chnaged for emp1 because when we ran the code:emp1.raise_amount = 1.05\n",
    "# raise_amount became part of the instance emp1.\n",
    "print(emp2.raise_amount)"
   ]
  },
  {
   "cell_type": "markdown",
   "metadata": {},
   "source": [
    "# WHY CAN WE ACCESS THE CLASS VARIABLE THROUGH OUR INSTANCES?\n",
    "\n",
    "\n",
    "# ANS: When we call an attribute through an instance, it first checks if the instance has that attribute or not,\n",
    "   # if the instance doesnt have that attribute it checks for that attribute in the class, thus here we can access the attribute/ class variable via instance."
   ]
  },
  {
   "cell_type": "code",
   "execution_count": null,
   "metadata": {},
   "outputs": [],
   "source": []
  },
  {
   "cell_type": "markdown",
   "metadata": {},
   "source": [
    "# CLASS METHODS"
   ]
  },
  {
   "cell_type": "code",
   "execution_count": 19,
   "metadata": {},
   "outputs": [
    {
     "name": "stdout",
     "output_type": "stream",
     "text": [
      "Stacey Mccord\n",
      "1.04\n",
      "1.04\n",
      "1.04\n",
      "RESULTS AFTER USING set_raise_amount method\n",
      "1.08\n",
      "1.08\n",
      "raised pay:  <bound method Employee.apply_raise of <__main__.Employee object at 0x0000015CFB4F7848>>\n"
     ]
    }
   ],
   "source": [
    "#Like regular methods can automatically take the instance name as first arguments which we by convention name \"self\",\n",
    "#class methods can automatically take the class name as the first arguement.\n",
    "#We can convert a regular method into a class  method by mentioning a decorator before declaring the method as show below:\n",
    "\n",
    "class Employee():\n",
    "    \n",
    "    raise_amount = 1.04 #declaring class variable \n",
    "    \n",
    "    def __init__(self,firstname,lastname,pay):  #we wanted email too but we can create that using the first name and last name\n",
    "        \n",
    "        #to set all of the instance variables:\n",
    "        \n",
    "        self.firstname = firstname   #these can be written as self.first_name = firstname dont need to match\n",
    "        self.lastname = lastname\n",
    "        self.email = firstname + \".\" + lastname + \"@gmail.com\"\n",
    "        self.pay = pay    \n",
    "        \n",
    "         \n",
    "    def fullname(self):  #because we have the variables we want to use already we dont need to mention anything other than the instance\n",
    "        return '{} {}'.format(self.firstname,self.lastname) \n",
    "\n",
    "    \n",
    "    def apply_raise(self):\n",
    "        self.pay = int(self.pay * Employee.raise_amount)\n",
    "        #or we can write : int(self.pay = self.pay*self.raise_amount)\n",
    "        return(pay)\n",
    "\n",
    "    @classmethod #the decorator declared before declaring teh class method:\n",
    "    \n",
    "    def set_raise_amount(cls,amount):#here cls is the replacement of \"self\", spelled \"cls\" by convention\n",
    "        cls.raise_amount = amount #we are changing the value of the class variable raise_amount to the amount mentioned in the set_raise_amount method\n",
    "        \n",
    "        \n",
    "\n",
    "emp1 = Employee('Stacey', 'Mccord', 60000) \n",
    "emp2 = Employee('Dmitri', 'Petriv', 40000)   \n",
    "\n",
    "print(Employee.fullname(emp1))\n",
    "\n",
    "print(Employee.raise_amount)\n",
    "print(emp1.raise_amount) \n",
    "\n",
    "print(emp2.raise_amount)\n",
    "\n",
    "print(\"RESULTS AFTER USING set_raise_amount method\")\n",
    "\n",
    "Employee.set_raise_amount(1.07) #this will give us same results as, if we run the code: Employee.raise_amount = 1.07\n",
    "\n",
    "Employee.raise_amount = 1.08   #uncomment this line and check it yourself\n",
    "\n",
    "print(emp1.raise_amount) \n",
    "\n",
    "print(emp2.raise_amount)\n",
    "print(\"raised pay: \",emp1.apply_raise)\n",
    "\n",
    "#print(\"raised pay: \", emp1.pay)\n",
    "\n"
   ]
  },
  {
   "cell_type": "markdown",
   "metadata": {},
   "source": [
    "# Q. What do people mean when they say that they can use class methods as alternative constructors?\n",
    "\n",
    "\n",
    "# A. They mean that we van use these class methods to provide multiple ways to create our class objects."
   ]
  },
  {
   "cell_type": "code",
   "execution_count": null,
   "metadata": {},
   "outputs": [],
   "source": [
    "# USING CLASS METHODS AS CONSTRUCTORS:\n",
    "#FOR CREATING OUR INSTANCE FROM A STRING OF VALUES SEPARATED BY \"-\", \n",
    "#WHICH NEEDS TO BE PARSED TO GET THE ATTRIBUTES WE NEED TO CREATE THE OBJECTS/INSTANCES\n",
    "\n",
    "\n",
    "class Employee():\n",
    "    \n",
    "    raise_amount = 1.04 #declaring class variable \n",
    "    \n",
    "    def __init__(self,firstname,lastname,pay):  #we wanted email too but we can create that using the first name and last name\n",
    "        \n",
    "        #to set all of the instance variables:\n",
    "        \n",
    "        self.firstname = firstname   #these can be written as self.first_name = firstname dont need to match\n",
    "        self.lastname = lastname\n",
    "        self.email = firstname + \".\" + lastname + \"@gmail.com\"\n",
    "        self.pay = pay    \n",
    "        \n",
    "         \n",
    "    def fullname(self):  #because we have the variables we want to use already we dont need to mention anything other than the instance\n",
    "        return '{} {}'.format(self.firstname,self.lastname) \n",
    "\n",
    "    \n",
    "    def apply_raise(self):\n",
    "        #self.pay = int(self.pay * Employee.raise_amount)\n",
    "        #or we can write : \n",
    "        self.pay = int(self.pay*self.raise_amount)\n",
    "\n",
    "    @classmethod #the decorator declared before declaring the class method:\n",
    "    \n",
    "    def set_raise_amount(cls,amount):#here cls is the replacement of \"self\", spelled \"cls\" by convention\n",
    "        cls.raise_amount = amount #we are changing the value of the class variable raise_amount to the amount mentioned in the set_raise_amount method\n",
    "        \n",
    "    @classmethod\n",
    "    \n",
    "    def from_string(cls,emp_str):\n",
    "        first_name,last_name,pay = emp_str.split(\"-\")\n",
    "        return cls(first_name,last_name,pay)\n",
    "    \n",
    "emp_1_str = 'John-Doe-60000'\n",
    "emp_2_str = 'Jane-Doe-80000'\n",
    "emp_3_str = 'Micheal-Ross-90000'\n",
    "\n",
    "emp_1_new = Employee.from_string(emp_2_str)  #Here the values are assigned to different instance variables for objects\n",
    "emp_2_new = Employee.from_string(emp_1_str)\n",
    "emp_3_new = Employee.from_string(emp_3_str)\n",
    "\n",
    "\n",
    "print(emp_1_new.first_name)\n",
    "print(emp_3_new.email)\n",
    "print(emp_2_new.pay)\n",
    "    "
   ]
  },
  {
   "cell_type": "code",
   "execution_count": null,
   "metadata": {},
   "outputs": [],
   "source": []
  },
  {
   "cell_type": "code",
   "execution_count": null,
   "metadata": {},
   "outputs": [],
   "source": []
  },
  {
   "cell_type": "markdown",
   "metadata": {},
   "source": [
    "# STATIC METHODS : They do not pass either class or instance automatically"
   ]
  },
  {
   "cell_type": "code",
   "execution_count": null,
   "metadata": {},
   "outputs": [],
   "source": [
    "# We use static methods when we do not want either the class or any instance anywhere within the method.\n",
    "# An example is given below:\n",
    "# We are calculating whether a given day is a working day or not, and u can see that this function doesnt \n",
    "#require anything from the class or any of its instances:\n",
    "\n",
    "\n",
    "class Employee():\n",
    "    \n",
    "    raise_amount = 1.04 #declaring class variable \n",
    "    \n",
    "    def __init__(self,firstname,lastname,pay):  #we wanted email too but we can create that using the first name and last name\n",
    "        \n",
    "        #to set all of the instance variables:\n",
    "        \n",
    "        self.firstname = firstname   #these can be written as self.first_name = firstname dont need to match\n",
    "        self.lastname = lastname\n",
    "        self.email = firstname + \".\" + lastname + \"@gmail.com\"\n",
    "        self.pay = pay    \n",
    "        \n",
    "         \n",
    "    def fullname(self):  #because we have the variables we want to use already we dont need to mention anything other than the instance\n",
    "        return '{} {}'.format(self.firstname,self.lastname) \n",
    "\n",
    "    \n",
    "    def apply_raise(self):\n",
    "        self.pay = int(self.pay * Employee.raise_amount)\n",
    "        #or we can write : int(self.pay = self.pay*self.raise_amount)\n",
    "\n",
    "    @classmethod #the decorator declared before declaring teh class method:\n",
    "    \n",
    "    def set_raise_amount(cls,amount):#here cls is the replacement of \"self\", spelled \"cls\" by convention\n",
    "        cls.raise_amount = amount #we are changing the value of the class variable raise_amount to the amount mentioned in the set_raise_amount method\n",
    "        \n",
    "    @classmethod\n",
    "    \n",
    "    def from_string(cls,emp_str):\n",
    "        first_name,last_name,pay = emp_str.split(\"-\")\n",
    "        return cls(first_name,last_name,pay)\n",
    "    \n",
    "    @staticmethod  #DECORATOR USED BEFORE DECLARING THE STATIC METHOD\n",
    "    \n",
    "    def is_workday(day):   #since we donot require class or instance we can directly put the required argument\n",
    "        if day.weekday == 5 or day.weekday == 6: #weekday is an inbuilt funtion in python for which Monday =0 and Sunday= 6\n",
    "            return False\n",
    "        else:\n",
    "            return True\n",
    "        \n",
    "import datetime\n",
    "\n",
    "my_date = datetime.date(2020,4,6)\n",
    "\n",
    "print(Employee.is_workday(my_date))"
   ]
  },
  {
   "cell_type": "markdown",
   "metadata": {},
   "source": [
    "## Inheritance"
   ]
  },
  {
   "cell_type": "markdown",
   "metadata": {},
   "source": [
    "### Inheritance allows us to use attributes and methods from a parent class."
   ]
  },
  {
   "cell_type": "code",
   "execution_count": 22,
   "metadata": {},
   "outputs": [
    {
     "name": "stdout",
     "output_type": "stream",
     "text": [
      "Help on class Developers in module __main__:\n",
      "\n",
      "class Developers(Employee)\n",
      " |  Developers(first_name, last_name, pay)\n",
      " |  \n",
      " |  Method resolution order:\n",
      " |      Developers\n",
      " |      Employee\n",
      " |      builtins.object\n",
      " |  \n",
      " |  Methods inherited from Employee:\n",
      " |  \n",
      " |  __init__(self, first_name, last_name, pay)\n",
      " |      Initialize self.  See help(type(self)) for accurate signature.\n",
      " |  \n",
      " |  full_name(self)\n",
      " |  \n",
      " |  raised_amount(self, amount)\n",
      " |  \n",
      " |  ----------------------------------------------------------------------\n",
      " |  Data descriptors inherited from Employee:\n",
      " |  \n",
      " |  __dict__\n",
      " |      dictionary for instance variables (if defined)\n",
      " |  \n",
      " |  __weakref__\n",
      " |      list of weak references to the object (if defined)\n",
      " |  \n",
      " |  ----------------------------------------------------------------------\n",
      " |  Data and other attributes inherited from Employee:\n",
      " |  \n",
      " |  raise_amount = 1.05\n",
      "\n",
      "None\n"
     ]
    }
   ],
   "source": [
    "class Employee:\n",
    "    \n",
    "    raise_amount = 1.05\n",
    "    \n",
    "    def __init__(self,first_name,last_name,pay):\n",
    "        self.first_name = first_name\n",
    "        self.last_name = last_name\n",
    "        self.email = first_name + '.' + last_name + '@gmail.com'\n",
    "        self.pay = pay\n",
    "    \n",
    "    \n",
    "    def full_name(self):\n",
    "        return '{} {}'.format(self.first_name,self.last_name) \n",
    "\n",
    "    def raised_amount(self,amount):\n",
    "        self.amount = int(self.pay * Employee.raise_amount)\n",
    "        \n",
    "        \n",
    "class Developers(Employee):  #creating subclass, we mention the class from which we want to inherit from, so here we write Employee\n",
    "    pass\n",
    "    \n",
    "    #for now even the subclass is empty you can see thta it will inherit all the methods and attributes of the parent class\n",
    "    \n",
    "    #you can see that using the follwoing function:\n",
    "\n",
    "print(help(Developers))\n",
    "    \n",
    " "
   ]
  },
  {
   "cell_type": "code",
   "execution_count": 29,
   "metadata": {},
   "outputs": [
    {
     "name": "stdout",
     "output_type": "stream",
     "text": [
      "Diksha Paliwal\n",
      "Star.Lord@gmail.com\n",
      "73500\n"
     ]
    }
   ],
   "source": [
    "class Employee:\n",
    "    \n",
    "    raise_amount = 1.05\n",
    "    \n",
    "    def __init__(self,first_name,last_name,pay):\n",
    "        self.first_name = first_name\n",
    "        self.last_name = last_name\n",
    "        self.email = first_name + '.' + last_name + '@gmail.com'\n",
    "        self.pay = pay\n",
    "    \n",
    "    \n",
    "    def full_name(self):\n",
    "        return '{} {}'.format(self.first_name,self.last_name) \n",
    "\n",
    "    def raised_amount(self):\n",
    "        self.pay = int(self.pay * self.raise_amount)\n",
    "        \n",
    "        \n",
    "class Developers(Employee):  #creating subclass, we mention the class from which we want to inherit from, so here we write Employee\n",
    "    raise_amount = 1.10\n",
    "    pass\n",
    "    \n",
    "#lets create objects for subclass Developers:\n",
    "\n",
    "#dev1 = Developers('Diksha', 'Paliwal', 70000)\n",
    "\n",
    "dev2 = Developers('Star', 'Lord', 50000)\n",
    "\n",
    "print(dev1.full_name())\n",
    "\n",
    "print(dev2.email)\n",
    "\n",
    "\n",
    "#now we can also custpmize the subclass without chnaging anything in the parent class\n",
    "\n",
    "#go to subclass and give different value to the class instance raise_amount\n",
    "    \n",
    "#now lets see the difference:\n",
    "\n",
    "dev1.raised_amount()\n",
    "print(dev1.pay) #you can see that dev1 is using the 10% raise rather than the 5% raise in employee class\n",
    "\n",
    "#now to see that there is no chnage in the employee class:\n",
    "\n",
    "dev1 = Employee('Diksha', 'Paliwal', 70000)\n",
    "dev1.raised_amount()\n",
    "print(dev1.pay) #you can see that it is still using the 5% raise\n",
    "\n",
    "\n",
    "\n",
    "\n",
    " "
   ]
  },
  {
   "cell_type": "code",
   "execution_count": 46,
   "metadata": {},
   "outputs": [
    {
     "name": "stdout",
     "output_type": "stream",
     "text": [
      "Pay_mgr:  70000\n",
      "Email_mgr1 :  Sue.Ming@gmail.com\n",
      "--> Diksha Paliwal\n",
      "--> Star Lord\n"
     ]
    }
   ],
   "source": [
    "#Now to make more changes to our subclass:\n",
    "\n",
    "\n",
    "class Employee:\n",
    "    \n",
    "    raise_amount = 1.05\n",
    "    \n",
    "    def __init__(self,first_name,last_name,pay):\n",
    "        self.first_name = first_name\n",
    "        self.last_name = last_name\n",
    "        self.email = first_name + '.' + last_name + '@gmail.com'\n",
    "        self.pay = pay\n",
    "    \n",
    "    \n",
    "    def full_name(self):\n",
    "        return '{} {}'.format(self.first_name,self.last_name) \n",
    "\n",
    "    def raised_amount(self):\n",
    "        self.pay = int(self.pay * self.raise_amount)\n",
    "        \n",
    "\n",
    "\n",
    "class Developer(Employee):\n",
    "     \n",
    "    #now since we need the same instances like firstname,lastname, pay\n",
    "    #instead of copy pasting that code from employee class we can use the following fucntions which will help us use \n",
    "    #the init method from teh parent class\n",
    "    \n",
    "    def __init__(self,first_name,last_name,pay,prog_lang):        #add all the previous instances and the new ones which we want\n",
    "        \n",
    "        \n",
    "        super().__init__(first_name,last_name,pay)  #attribute the instances that we want from the init method of parent class\n",
    "        \n",
    "        #instead of super method we can also specify the name of the parent class but it is recommended to use super method \n",
    "        \n",
    "        #Employee.__init__(first_name,last_name,pay)\n",
    "        \n",
    "        #now we can initiate the new instance like we used to\n",
    "        \n",
    "        self.prog_lang = prog_lang\n",
    "        \n",
    "    \n",
    "\n",
    "dev1 = Developer('Diksha', 'Paliwal', 70000,'Python')\n",
    "\n",
    "dev2 = Developer('Star', 'Lord', 50000,'COBOL') \n",
    "\n",
    "#print(dev1.prog_lang)\n",
    "  \n",
    "#print(dev1.email)\n",
    "        \n",
    "    \n",
    "    \n",
    "#Creating a new subclass:\n",
    "\n",
    "\n",
    "\n",
    "class Manager(Employee):\n",
    "    \n",
    "    def __init__(self,first_name,last_name,pay,employees= None):        #we want a list of employees that the manager supervises        \n",
    "        \n",
    "        super().__init__(first_name,last_name,pay)\n",
    "        if employees is None:\n",
    "            self.employees = []\n",
    "        else:\n",
    "            self.employees = employees\n",
    "    def add_employee(self,emp):\n",
    "        \n",
    "        if emp not in self.employees:\n",
    "            self.employees.append(emp)\n",
    "    \n",
    "    \n",
    "    def remove_employee(self,emp):\n",
    "        \n",
    "        if emp in self.employees:\n",
    "            self.employee.remove(emp)\n",
    "\n",
    "    def print_employees(self):\n",
    "        for emp in self.employees:\n",
    "            print(\"-->\", Employee.full_name(emp))\n",
    "            \n",
    "            \n",
    "        \n",
    "mgr1 = Manager('Sue','Ming',70000,[dev1])       \n",
    "\n",
    "\n",
    "print(\"Pay_mgr: \",mgr1.pay)\n",
    "\n",
    "print(\"Email_mgr1 : \",mgr1.email)\n",
    "\n",
    "mgr1.add_employee(dev2)\n",
    "\n",
    "\n",
    "mgr1.print_employees()\n",
    "\n",
    "        "
   ]
  },
  {
   "cell_type": "code",
   "execution_count": 50,
   "metadata": {},
   "outputs": [
    {
     "name": "stdout",
     "output_type": "stream",
     "text": [
      "True\n",
      "False\n",
      "True\n"
     ]
    }
   ],
   "source": [
    "# isinstance() built in function that tells us if an object is and instance of a class\n",
    "\n",
    "\n",
    "print(isinstance(mgr1,Employee))\n",
    "\n",
    "print(isinstance(mgr1,Developer))\n",
    "\n",
    "print(isinstance(mgr1,Manager))"
   ]
  },
  {
   "cell_type": "code",
   "execution_count": 52,
   "metadata": {},
   "outputs": [
    {
     "name": "stdout",
     "output_type": "stream",
     "text": [
      "True\n",
      "True\n"
     ]
    }
   ],
   "source": [
    "# issubclass() : built in function that tells us if  a class is a subclass of another class or not\n",
    "\n",
    "\n",
    "print(issubclass(Manager,Employee))\n",
    "\n",
    "print(issubclass(Developer,Employee))\n",
    "\n"
   ]
  },
  {
   "cell_type": "code",
   "execution_count": null,
   "metadata": {},
   "outputs": [],
   "source": []
  }
 ],
 "metadata": {
  "kernelspec": {
   "display_name": "Python 3",
   "language": "python",
   "name": "python3"
  },
  "language_info": {
   "codemirror_mode": {
    "name": "ipython",
    "version": 3
   },
   "file_extension": ".py",
   "mimetype": "text/x-python",
   "name": "python",
   "nbconvert_exporter": "python",
   "pygments_lexer": "ipython3",
   "version": "3.7.5"
  }
 },
 "nbformat": 4,
 "nbformat_minor": 4
}
