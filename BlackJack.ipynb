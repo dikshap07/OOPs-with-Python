{
  "nbformat": 4,
  "nbformat_minor": 0,
  "metadata": {
    "colab": {
      "name": "BlackJack.ipynb",
      "provenance": [],
      "authorship_tag": "ABX9TyNKe2Upxp8FrizLyG8Sjl/x",
      "include_colab_link": true
    },
    "kernelspec": {
      "display_name": "Python 3",
      "name": "python3"
    },
    "language_info": {
      "name": "python"
    }
  },
  "cells": [
    {
      "cell_type": "markdown",
      "metadata": {
        "id": "view-in-github",
        "colab_type": "text"
      },
      "source": [
        "<a href=\"https://colab.research.google.com/github/dikshap07/OOPs-with-Python/blob/master/BlackJack.ipynb\" target=\"_parent\"><img src=\"https://colab.research.google.com/assets/colab-badge.svg\" alt=\"Open In Colab\"/></a>"
      ]
    },
    {
      "cell_type": "code",
      "metadata": {
        "id": "jiaOzjujwsDZ"
      },
      "source": [
        "import random\n",
        " \n",
        "suits = ['Hearts','Clubs','Spades','Diamonds']\n",
        " \n",
        "ranks = ['Two','Three','Four','Five','Six','Seven','Eight','Nine','Ten','Jack','Queen','King','Ace']\n",
        " \n",
        "values = {'Two': 2, 'Three': 3, 'Four': 4, 'Five': 5, 'Six' : 6 , 'Seven' :7, 'Eight': 8,'Nine':9,\n",
        "          'Ten':10,'Jack':10, 'Queen': 10,'King': 10,'Ace':1}"
      ],
      "execution_count": 1,
      "outputs": []
    },
    {
      "cell_type": "code",
      "metadata": {
        "id": "AV0sM_b2zAOG"
      },
      "source": [
        "class Card():\n",
        "\n",
        "  def __init__(self,suit,rank):\n",
        "    self.suit = suit\n",
        "    self.rank = rank\n",
        "    self.value = values[rank]\n",
        "\n",
        "    #string method\n",
        "  def __str__(self):\n",
        "        \n",
        "    return self.rank + ' of ' + self.suit "
      ],
      "execution_count": 2,
      "outputs": []
    },
    {
      "cell_type": "code",
      "metadata": {
        "id": "I51h7KcfyCef"
      },
      "source": [
        "class Deck():\n",
        "\n",
        "  def __init__(self):\n",
        "    self.all_cards = []\n",
        "\n",
        "    for suit in suits:\n",
        "      for rank in ranks:\n",
        "        self.all_cards.append(Card(suit,rank))\n",
        "\n",
        "\n",
        "  def shuffle(self):\n",
        "    random.shuffle(self.all_cards)\n",
        "\n",
        "  def hit(self):\n",
        "    hit_card =  random.choice(self.all_cards)\n",
        "    self.all_cards.remove(hit_card)\n",
        "    return hit_card\n",
        "  \n",
        "  def draw_cards(self):\n",
        "\n",
        "    two_cards = []\n",
        "    for i in range(2):\n",
        "\n",
        "      card_drawn = random.choice(self.all_cards)\n",
        "      two_cards.append(card_drawn)\n",
        "      self.all_cards.remove(card_drawn)\n",
        "\n",
        "    return two_cards"
      ],
      "execution_count": 3,
      "outputs": []
    },
    {
      "cell_type": "code",
      "metadata": {
        "id": "XtCiGKMAWw5N"
      },
      "source": [
        "class Player():\n",
        "\n",
        "  def __init__(self,name, chips):\n",
        "    self.name = name\n",
        "    self.all_cards = []\n",
        "    self.chips = chips\n",
        "\n",
        "  def add_cards(self,new_cards):\n",
        "\n",
        "    if type(new_cards) == type([]):\n",
        "\n",
        "      self.all_cards.extend(new_cards)\n",
        "\n",
        "    else:\n",
        "\n",
        "      self.all_cards.append(new_cards)\n",
        "\n",
        "    \n",
        "  def card_sum(self):\n",
        "\n",
        "    card_sum = 0\n",
        "    for card in self.all_cards:\n",
        "\n",
        "      card_sum+= card.value\n",
        "    \n",
        "    return card_sum\n",
        "\n",
        "  def show_cards(self):\n",
        "\n",
        "    print(self.all_cards[0])\n",
        "    print(self.all_cards[1])"
      ],
      "execution_count": 4,
      "outputs": []
    },
    {
      "cell_type": "code",
      "metadata": {
        "id": "d9zg3bswZTEZ"
      },
      "source": [
        "class Dealer():\n",
        "\n",
        "  def __init__(self):\n",
        "    self.all_cards = []\n",
        "\n",
        "  def add_cards(self,new_cards):\n",
        "\n",
        "    if type(new_cards) == type([]):\n",
        "\n",
        "      self.all_cards.extend(new_cards)\n",
        "\n",
        "    else:\n",
        "\n",
        "      self.all_cards.append(new_cards)\n",
        "\n",
        "  def card_sum(self):\n",
        "\n",
        "    card_sum = 0\n",
        "    for card in self.all_cards:\n",
        "\n",
        "      card_sum+= card.value\n",
        "    \n",
        "    return card_sum\n",
        "\n",
        "  def show_cards(self):\n",
        "\n",
        "    print(self.all_cards[0])\n",
        "  "
      ],
      "execution_count": 5,
      "outputs": []
    },
    {
      "cell_type": "code",
      "metadata": {
        "id": "G1ewQKdxyJcg"
      },
      "source": [
        "new_deck = Deck()\n",
        "new_deck.shuffle()"
      ],
      "execution_count": 6,
      "outputs": []
    },
    {
      "cell_type": "code",
      "metadata": {
        "colab": {
          "base_uri": "https://localhost:8080/"
        },
        "id": "nHAyidL3VKD_",
        "outputId": "5903514a-1f65-4814-874d-e79eddd8f06a"
      },
      "source": [
        "for card in new_deck.all_cards:\n",
        "  print(card)"
      ],
      "execution_count": null,
      "outputs": [
        {
          "output_type": "stream",
          "text": [
            "Ace of Hearts\n",
            "Seven of Spades\n",
            "Seven of Clubs\n",
            "Five of Spades\n",
            "Four of Spades\n",
            "Queen of Diamonds\n",
            "King of Clubs\n",
            "Five of Hearts\n",
            "Two of Diamonds\n",
            "Two of Clubs\n",
            "Six of Spades\n",
            "Three of Clubs\n",
            "King of Spades\n",
            "Three of Diamonds\n",
            "Queen of Hearts\n",
            "Ace of Diamonds\n",
            "Jack of Diamonds\n",
            "Nine of Clubs\n",
            "Ten of Clubs\n",
            "Four of Clubs\n",
            "King of Hearts\n",
            "Ten of Diamonds\n",
            "Jack of Spades\n",
            "Eight of Clubs\n",
            "Jack of Clubs\n",
            "Queen of Clubs\n",
            "Eight of Spades\n",
            "Ten of Spades\n",
            "Nine of Diamonds\n",
            "Five of Diamonds\n",
            "Three of Hearts\n",
            "Seven of Diamonds\n",
            "Eight of Hearts\n",
            "Five of Clubs\n",
            "Four of Diamonds\n",
            "Jack of Hearts\n",
            "Seven of Hearts\n",
            "Six of Diamonds\n",
            "Nine of Spades\n",
            "Ace of Clubs\n",
            "Ace of Spades\n",
            "Four of Hearts\n",
            "Queen of Spades\n",
            "Two of Spades\n",
            "King of Diamonds\n",
            "Nine of Hearts\n",
            "Two of Hearts\n",
            "Six of Hearts\n",
            "Three of Spades\n",
            "Eight of Diamonds\n",
            "Six of Clubs\n",
            "Ten of Hearts\n"
          ],
          "name": "stdout"
        }
      ]
    },
    {
      "cell_type": "code",
      "metadata": {
        "colab": {
          "base_uri": "https://localhost:8080/"
        },
        "id": "LxEMg9TMVWpV",
        "outputId": "24cd8fb8-115e-456a-d1ef-8b42fab6bfb8"
      },
      "source": [
        "print(new_deck.draw_cards()[0].value)"
      ],
      "execution_count": null,
      "outputs": [
        {
          "output_type": "stream",
          "text": [
            "8\n"
          ],
          "name": "stdout"
        }
      ]
    },
    {
      "cell_type": "markdown",
      "metadata": {
        "id": "16bZ-lNg7K3v"
      },
      "source": [
        "#GAME LOGIC\n"
      ]
    },
    {
      "cell_type": "code",
      "metadata": {
        "id": "cO1DcquAcTzy",
        "colab": {
          "base_uri": "https://localhost:8080/"
        },
        "outputId": "bdc95f5b-4625-4c7e-ba9c-ae70a22be31c"
      },
      "source": [
        "new_deck = Deck()   #create a new deck\n",
        "new_deck.shuffle()   #shuffle the  deck\n",
        "dealer = Dealer()   #new dealer\n",
        "player_name = input('Input player Name: ')   #enter player number\n",
        "chips = int(input('Input player total chips: '))    #enyter player starting balance\n",
        "player = Player(player_name, chips)\n",
        "print('The player goes first')\n",
        "\n",
        "\n",
        "\n",
        "\n",
        "game_on = True\n",
        "while game_on == True and player.chips > 0 :   #whi;e game on and player has enoigh chips\n",
        "\n",
        "  new_deck = Deck()   #create a new deck\n",
        "  new_deck.shuffle()   #shuffle the  deck\n",
        "  print('Player chips: ',player.chips)\n",
        "  bet_amount = int(input('Player '+ player_name + ' please tell your bet amount: '))   #bet amount\n",
        "\n",
        "  if bet_amount<= player.chips:   #if bet amount less than chips cant play\n",
        "    game_on = True  \n",
        "    player.chips -= bet_amount \n",
        "\n",
        "  else:\n",
        "    print('Sorry you dont have enough chips to place this bet!')\n",
        "    game_on = False\n",
        "    break\n",
        "\n",
        "  print('Here are the player cards : ')\n",
        "  player.add_cards(new_deck.draw_cards())    #adding and showing 2 cards for player\n",
        "  player.show_cards()\n",
        "  print('Here are the dealer cards: ')\n",
        "  dealer.add_cards(new_deck.draw_cards())   #adding two cards for dealer but shwoing only one\n",
        "  dealer.show_cards()\n",
        "\n",
        "\n",
        "  print('Player card sum: ', player.card_sum())\n",
        "\n",
        "  player_move = True   #player turn starts\n",
        "\n",
        "  while player_move == True:\n",
        "\n",
        "    next_player_action = input('Player do you want to hit or stand: ')   #player wants to hit or not\n",
        "\n",
        "    if next_player_action == 'hit':\n",
        "\n",
        "      player.add_cards(new_deck.hit())\n",
        "      print(player.all_cards[-1])\n",
        "\n",
        "      for card in player.all_cards:  #to check if there is an Ace in the player cards\n",
        "\n",
        "        if card.rank == 'Ace':\n",
        "          sum = player.card_sum()\n",
        "          print('sum',sum)\n",
        "          sum_without_ace = sum - card.value\n",
        "          print('sum_without_ace',sum_without_ace)\n",
        "\n",
        "          if (sum_without_ace +11) > 21:   #if taking ace value 11 will make sum more than 21 then take value 1\n",
        "\n",
        "            card.value = 1\n",
        "\n",
        "          elif (sum_without_ace + 1) < 21 and (sum_without_ace + 11) < 21:   #if for both 1 and 11 the total sum is less than 21 we take the one which makes sum closer to 21\n",
        "\n",
        "            card.value = 11 if (21 - (sum_without_ace + 1)) > (21-(sum_without_ace +11)) else 1\n",
        "\n",
        "            \n",
        "          else:\n",
        "            card.value = 1     #in all other cases take ace as 1\n",
        "            print('card value chnaged for ace')\n",
        "\n",
        "      new_sum = player.card_sum()\n",
        "      print('new player sum :', new_sum)\n",
        "      \n",
        "      if new_sum < 21:   #if sum is still less than 21 player can afford to hit \n",
        "        continue\n",
        "\n",
        "      elif new_sum == 21:   #if sum == 21 blackjack for player and player wins and we can move to next round so make everything zero\n",
        "\n",
        "        print('BLACKJACK')\n",
        "\n",
        "        print('Player '+ player_name + ' wins')\n",
        "\n",
        "        player.chips += 2*bet_amount\n",
        "\n",
        "        print('Player new chip total : ', player.chips)\n",
        "        #game_on = False\n",
        "        player.all_cards = []\n",
        "        dealer.all_cards = []\n",
        "        dealer_move = False\n",
        "        break\n",
        "    \n",
        "      elif new_sum > 21:   #if sum >21 player loses no need to go to dealer\n",
        "\n",
        "        print('Player '+ player.name + ' you lose!' )\n",
        "        #game_on = False\n",
        "        player.all_cards = []\n",
        "        dealer.all_cards = []\n",
        "        dealer_move = False\n",
        "        break\n",
        "\n",
        "\n",
        "    else:\n",
        "      player_move = False\n",
        "      dealer_move = True\n",
        "\n",
        "\n",
        "  \n",
        "\n",
        "  while dealer_move == True:\n",
        "    print('Dealer 2nd card: ',dealer.all_cards[1])\n",
        "\n",
        "    dealer.add_cards(new_deck.hit())\n",
        "\n",
        "    dealer_sum = dealer.card_sum()\n",
        "\n",
        "    print('Dealer card sum',dealer_sum )\n",
        "\n",
        "    if dealer_sum < player.card_sum():\n",
        "      continue\n",
        "\n",
        "    elif dealer_sum == 21:   # dealer blackjack\n",
        "\n",
        "      print('DEALER BLACKJACK!')\n",
        "      print('DEALER WINS!!')\n",
        "\n",
        "      dealer_move = False\n",
        "      dealer.all_cards = []\n",
        "      player.all_cards = []\n",
        "      break\n",
        "\n",
        "    elif dealer_sum > 21 and player.card_sum() < 21:   #if dealer sum goes above player sum thn player wins\n",
        "\n",
        "      print('PLAYER ' + player.name + ' WINS')\n",
        "      player.chips += bet_amount*2\n",
        "      dealer_move = False\n",
        "      dealer.all_cards = []\n",
        "      player.all_cards = []\n",
        "      break\n",
        "      \n",
        "\n",
        "    else:\n",
        "\n",
        "      print('DEALER WINS')\n",
        "\n",
        "      dealer_move = False\n",
        "      dealer.all_cards = []\n",
        "      player.all_cards = []\n",
        "      break"
      ],
      "execution_count": 39,
      "outputs": [
        {
          "output_type": "stream",
          "text": [
            "Input player Name: g\n",
            "Input player total chips: 1000\n",
            "The player goes first\n",
            "Player chips:  1000\n",
            "Player g please tell your bet amount: 500\n",
            "Here are the player cards : \n",
            "Two of Diamonds\n",
            "Jack of Spades\n",
            "Here are the dealer cards: \n",
            "Five of Hearts\n",
            "Player card sum:  12\n",
            "Player do you want to hit or stand: hit\n",
            "Five of Clubs\n",
            "new player sum : 17\n",
            "Player do you want to hit or stand: stand\n",
            "Dealer 2nd card:  Ace of Hearts\n",
            "Dealer card sum 12\n",
            "Dealer 2nd card:  Ace of Hearts\n",
            "Dealer card sum 21\n",
            "DEALER BLACKJACK!\n",
            "DEALER WINS!!\n",
            "Player chips:  500\n",
            "Player g please tell your bet amount: 400\n",
            "Here are the player cards : \n",
            "King of Hearts\n",
            "Seven of Clubs\n",
            "Here are the dealer cards: \n",
            "Jack of Hearts\n",
            "Player card sum:  17\n",
            "Player do you want to hit or stand: hit\n",
            "Ten of Diamonds\n",
            "new player sum : 27\n",
            "Player g you lose!\n",
            "Player chips:  100\n",
            "Player g please tell your bet amount: 100\n",
            "Here are the player cards : \n",
            "Ace of Clubs\n",
            "Two of Spades\n",
            "Here are the dealer cards: \n",
            "Seven of Hearts\n",
            "Player card sum:  3\n",
            "Player do you want to hit or stand: hit\n",
            "Seven of Spades\n",
            "sum 10\n",
            "sum_without_ace 9\n",
            "new player sum : 20\n",
            "Player do you want to hit or stand: stand\n",
            "Dealer 2nd card:  Nine of Spades\n",
            "Dealer card sum 18\n",
            "Dealer 2nd card:  Nine of Spades\n",
            "Dealer card sum 28\n",
            "PLAYER g WINS\n",
            "Player chips:  200\n",
            "Player g please tell your bet amount: 300\n",
            "Sorry you dont have enough chips to place this bet!\n"
          ],
          "name": "stdout"
        }
      ]
    },
    {
      "cell_type": "code",
      "metadata": {
        "id": "CHuMHBQ42R6F"
      },
      "source": [
        ""
      ],
      "execution_count": null,
      "outputs": []
    }
  ]
}