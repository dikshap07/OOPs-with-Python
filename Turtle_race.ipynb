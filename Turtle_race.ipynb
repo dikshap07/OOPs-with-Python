{
 "cells": [
  {
   "cell_type": "code",
   "execution_count": 1,
   "metadata": {},
   "outputs": [],
   "source": [
    "from turtle import Turtle"
   ]
  },
  {
   "cell_type": "code",
   "execution_count": 2,
   "metadata": {},
   "outputs": [
    {
     "data": {
      "text/plain": [
       "['DEFAULT_ANGLEOFFSET',\n",
       " 'DEFAULT_ANGLEORIENT',\n",
       " 'DEFAULT_MODE',\n",
       " 'START_ORIENTATION',\n",
       " '__class__',\n",
       " '__delattr__',\n",
       " '__dict__',\n",
       " '__dir__',\n",
       " '__doc__',\n",
       " '__eq__',\n",
       " '__format__',\n",
       " '__ge__',\n",
       " '__getattribute__',\n",
       " '__gt__',\n",
       " '__hash__',\n",
       " '__init__',\n",
       " '__init_subclass__',\n",
       " '__le__',\n",
       " '__lt__',\n",
       " '__module__',\n",
       " '__ne__',\n",
       " '__new__',\n",
       " '__reduce__',\n",
       " '__reduce_ex__',\n",
       " '__repr__',\n",
       " '__setattr__',\n",
       " '__sizeof__',\n",
       " '__str__',\n",
       " '__subclasshook__',\n",
       " '__weakref__',\n",
       " '_cc',\n",
       " '_clear',\n",
       " '_clearstamp',\n",
       " '_color',\n",
       " '_colorstr',\n",
       " '_delay',\n",
       " '_drawturtle',\n",
       " '_getshapepoly',\n",
       " '_go',\n",
       " '_goto',\n",
       " '_newLine',\n",
       " '_pen',\n",
       " '_polytrafo',\n",
       " '_reset',\n",
       " '_rotate',\n",
       " '_screen',\n",
       " '_setDegreesPerAU',\n",
       " '_setmode',\n",
       " '_tracer',\n",
       " '_undo',\n",
       " '_undogoto',\n",
       " '_update',\n",
       " '_update_data',\n",
       " '_write',\n",
       " 'back',\n",
       " 'backward',\n",
       " 'begin_fill',\n",
       " 'begin_poly',\n",
       " 'bk',\n",
       " 'circle',\n",
       " 'clear',\n",
       " 'clearstamp',\n",
       " 'clearstamps',\n",
       " 'clone',\n",
       " 'color',\n",
       " 'degrees',\n",
       " 'distance',\n",
       " 'dot',\n",
       " 'down',\n",
       " 'end_fill',\n",
       " 'end_poly',\n",
       " 'fd',\n",
       " 'fillcolor',\n",
       " 'filling',\n",
       " 'forward',\n",
       " 'get_poly',\n",
       " 'get_shapepoly',\n",
       " 'getpen',\n",
       " 'getscreen',\n",
       " 'getturtle',\n",
       " 'goto',\n",
       " 'heading',\n",
       " 'hideturtle',\n",
       " 'home',\n",
       " 'ht',\n",
       " 'isdown',\n",
       " 'isvisible',\n",
       " 'left',\n",
       " 'lt',\n",
       " 'onclick',\n",
       " 'ondrag',\n",
       " 'onrelease',\n",
       " 'pd',\n",
       " 'pen',\n",
       " 'pencolor',\n",
       " 'pendown',\n",
       " 'pensize',\n",
       " 'penup',\n",
       " 'pos',\n",
       " 'position',\n",
       " 'pu',\n",
       " 'radians',\n",
       " 'reset',\n",
       " 'resizemode',\n",
       " 'right',\n",
       " 'rt',\n",
       " 'screens',\n",
       " 'seth',\n",
       " 'setheading',\n",
       " 'setpos',\n",
       " 'setposition',\n",
       " 'settiltangle',\n",
       " 'setundobuffer',\n",
       " 'setx',\n",
       " 'sety',\n",
       " 'shape',\n",
       " 'shapesize',\n",
       " 'shapetransform',\n",
       " 'shearfactor',\n",
       " 'showturtle',\n",
       " 'speed',\n",
       " 'st',\n",
       " 'stamp',\n",
       " 'tilt',\n",
       " 'tiltangle',\n",
       " 'towards',\n",
       " 'turtlesize',\n",
       " 'undo',\n",
       " 'undobufferentries',\n",
       " 'up',\n",
       " 'width',\n",
       " 'write',\n",
       " 'xcor',\n",
       " 'ycor']"
      ]
     },
     "execution_count": 2,
     "metadata": {},
     "output_type": "execute_result"
    }
   ],
   "source": [
    "dir(Turtle)"
   ]
  },
  {
   "cell_type": "code",
   "execution_count": 3,
   "metadata": {},
   "outputs": [],
   "source": [
    "robin = Turtle()    #declaring a turtle instance"
   ]
  },
  {
   "cell_type": "code",
   "execution_count": 4,
   "metadata": {},
   "outputs": [],
   "source": [
    "robin.color('blue')   #giving color and shape to our turtle\n",
    "robin.shape('turtle')"
   ]
  },
  {
   "cell_type": "code",
   "execution_count": 5,
   "metadata": {},
   "outputs": [],
   "source": [
    "#to stop drawing turtle\n",
    "robin.penup()   #turtle will move around but wont draw anything\n",
    "\n",
    "#to move to a location\n",
    "robin.goto(-160,100)\n",
    "\n",
    "#to draw a line\n",
    "robin.pendown()  #turtle will start drawing as it moves around"
   ]
  },
  {
   "cell_type": "code",
   "execution_count": 6,
   "metadata": {},
   "outputs": [],
   "source": [
    "#creating three more instances of turtle with diff name and \n",
    "#color\n",
    "\n",
    "billy = Turtle()\n",
    "billy.color('red')\n",
    "billy.shape('turtle')\n",
    "\n",
    "sam = Turtle()\n",
    "sam.color('yellow')\n",
    "sam.shape('turtle')\n",
    "\n",
    "maxi = Turtle()\n",
    "maxi.color('green')\n",
    "maxi.shape('turtle')"
   ]
  },
  {
   "cell_type": "code",
   "execution_count": 7,
   "metadata": {},
   "outputs": [],
   "source": [
    "billy.penup()\n",
    "billy.goto(-160, 70)\n",
    "billy.pendown()"
   ]
  },
  {
   "cell_type": "code",
   "execution_count": 8,
   "metadata": {},
   "outputs": [],
   "source": [
    "sam.penup()\n",
    "sam.goto(-160, 40)\n",
    "sam.pendown()"
   ]
  },
  {
   "cell_type": "code",
   "execution_count": 9,
   "metadata": {},
   "outputs": [],
   "source": [
    "maxi.penup()\n",
    "maxi.goto(-160, 10)\n",
    "maxi.pendown()"
   ]
  },
  {
   "cell_type": "code",
   "execution_count": 11,
   "metadata": {},
   "outputs": [],
   "source": [
    "# to move the turtles randomly in forward direction\n",
    "\n",
    "from random import randint\n",
    "\n",
    "for movement in range(100):\n",
    "    billy.forward(randint(1,5))\n",
    "    sam.forward(randint(1,5))\n",
    "    robin.forward(randint(1,5))\n",
    "    maxi.forward(randint(1,5))"
   ]
  },
  {
   "cell_type": "code",
   "execution_count": null,
   "metadata": {},
   "outputs": [],
   "source": []
  }
 ],
 "metadata": {
  "kernelspec": {
   "display_name": "Python 3",
   "language": "python",
   "name": "python3"
  },
  "language_info": {
   "codemirror_mode": {
    "name": "ipython",
    "version": 3
   },
   "file_extension": ".py",
   "mimetype": "text/x-python",
   "name": "python",
   "nbconvert_exporter": "python",
   "pygments_lexer": "ipython3",
   "version": "3.7.5"
  }
 },
 "nbformat": 4,
 "nbformat_minor": 2
}
